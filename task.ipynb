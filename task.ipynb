{
  "cells": [
    {
      "cell_type": "markdown",
      "metadata": {
        "id": "Q_rqa1jwKd5v"
      },
      "source": [
        "# Python pandas"
      ]
    },
    {
      "cell_type": "code",
      "execution_count": 1,
      "metadata": {
        "colab": {
          "base_uri": "https://localhost:8080/"
        },
        "id": "_DgRNdroKTwF",
        "outputId": "9353a4df-bdc7-4d8b-961a-204b54781f3f"
      },
      "outputs": [],
      "source": [
        "# Import statements go here\n",
        "\n",
        "import pandas as pd\n",
        "import statsmodels.api as sm"
      ]
    },
    {
      "cell_type": "markdown",
      "metadata": {
        "id": "525Moc9hEfFr"
      },
      "source": [
        "## Импорт и создание DataFrame \n",
        "\n",
        "Выполните код ниже, чтобы загрузить из файла `anes96.csv` данные [Американских национальных исследований выборов 1996 года](https://www.statsmodels.org/dev/datasets/generated/anes96.html)."
      ]
    },
    {
      "cell_type": "code",
      "execution_count": 2,
      "metadata": {},
      "outputs": [],
      "source": [
        "df = pd.read_csv('anes96.csv')"
      ]
    },
    {
      "cell_type": "markdown",
      "metadata": {},
      "source": [
        "Информация о содержимом датасета:\n",
        "\n",
        "```plain\n",
        "    Variables name definitions::\n",
        "\n",
        "            popul - Census place population in 1000s\n",
        "            TVnews - Number of times per week that respondent watches TV news.\n",
        "            PID - Party identification of respondent.\n",
        "                0 - Strong Democrat\n",
        "                1 - Weak Democrat\n",
        "                2 - Independent-Democrat\n",
        "                3 - Independent-Indpendent\n",
        "                4 - Independent-Republican\n",
        "                5 - Weak Republican\n",
        "                6 - Strong Republican\n",
        "            age : Age of respondent.\n",
        "            educ - Education level of respondent\n",
        "                1 - 1-8 grades\n",
        "                2 - Some high school\n",
        "                3 - High school graduate\n",
        "                4 - Some college\n",
        "                5 - College degree\n",
        "                6 - Master's degree\n",
        "                7 - PhD\n",
        "            income - Income of household\n",
        "                1  - None or less than $2,999\n",
        "                2  - $3,000-$4,999\n",
        "                3  - $5,000-$6,999\n",
        "                4  - $7,000-$8,999\n",
        "                5  - $9,000-$9,999\n",
        "                6  - $10,000-$10,999\n",
        "                7  - $11,000-$11,999\n",
        "                8  - $12,000-$12,999\n",
        "                9  - $13,000-$13,999\n",
        "                10 - $14,000-$14.999\n",
        "                11 - $15,000-$16,999\n",
        "                12 - $17,000-$19,999\n",
        "                13 - $20,000-$21,999\n",
        "                14 - $22,000-$24,999\n",
        "                15 - $25,000-$29,999\n",
        "                16 - $30,000-$34,999\n",
        "                17 - $35,000-$39,999\n",
        "                18 - $40,000-$44,999\n",
        "                19 - $45,000-$49,999\n",
        "                20 - $50,000-$59,999\n",
        "                21 - $60,000-$74,999\n",
        "                22 - $75,000-89,999\n",
        "                23 - $90,000-$104,999\n",
        "                24 - $105,000 and over\n",
        "            vote - Expected vote\n",
        "                0 - Clinton\n",
        "                1 - Dole\n",
        "            The following 3 variables all take the values:\n",
        "                1 - Extremely liberal\n",
        "                2 - Liberal\n",
        "                3 - Slightly liberal\n",
        "                4 - Moderate\n",
        "                5 - Slightly conservative\n",
        "                6 - Conservative\n",
        "                7 - Extremely Conservative\n",
        "            selfLR - Respondent's self-reported political leanings from \"Left\"\n",
        "                to \"Right\".\n",
        "            ClinLR - Respondents impression of Bill Clinton's political\n",
        "                leanings from \"Left\" to \"Right\".\n",
        "            DoleLR  - Respondents impression of Bob Dole's political leanings\n",
        "                from \"Left\" to \"Right\".\n",
        "            logpopul - log(popul + .1)\n",
        "```"
      ]
    },
    {
      "cell_type": "markdown",
      "metadata": {
        "id": "kBHruDwCK1mH"
      },
      "source": [
        "## 1. Основные свойства DataFrame\n",
        "\n",
        "DataFrame (`df`) содержит данные о зарегистрированных избирателях в США, включая демографические данные и политические взгляды. Используя `pandas`, выведите первые 5 строк DataFrame, чтобы понять как примерно выглядят данные. Далее ответьте на следующие вопросы:\n",
        "\n",
        "* Сколько записей в DataFrame?\n",
        "* Сколько параметров было оценено в исследовании (сколько столбцов)?\n",
        "* Каков минимальный и максимальный возраст избирателя?\n",
        "* Сколько раз в неделю в среднем респонденты смотрят новости (округлите до десятых)?\n",
        "* Проверьте данные на пропущенные значения."
      ]
    },
    {
      "cell_type": "code",
      "execution_count": 59,
      "metadata": {
        "id": "kh7hT9QyEsxl"
      },
      "outputs": [
        {
          "name": "stdout",
          "output_type": "stream",
          "text": [
            "Количество записей в df: 944\n",
            "Столбцов: 16\n",
            "Минимальный возраст избирателя: 19\n",
            "Максимальный возраст избирателя: 91\n",
            "Количество просмотров новостей в неделю: 3.7\n",
            "\n",
            "Пропущенные значения:\n",
            "popul          0\n",
            "TVnews         0\n",
            "selfLR         0\n",
            "ClinLR         0\n",
            "DoleLR         0\n",
            "PID            0\n",
            "age            0\n",
            "education      0\n",
            "income         0\n",
            "vote           0\n",
            "logpopul       0\n",
            "party          0\n",
            "age_group      0\n",
            "diff           0\n",
            "diff_ClinLR    0\n",
            "diff_DoleLR    0\n",
            "dtype: int64\n"
          ]
        }
      ],
      "source": [
        "records = len(df)\n",
        "print(f'Количество записей в df: {records}') # 944\n",
        "\n",
        "columns = len(df.columns)\n",
        "print(f'Столбцов: {columns}') # 11\n",
        "\n",
        "min_age = df['age'].min()\n",
        "max_age = df['age'].max()\n",
        "print(f'Минимальный возраст избирателя: {int(min_age)}') # 19\n",
        "print(f'Максимальный возраст избирателя: {int(max_age)}') # 91\n",
        "\n",
        "avg_news_watch = df['TVnews'].mean()\n",
        "print(f'Количество просмотров новостей в неделю: {round(avg_news_watch, 1)}') # 3,7\n",
        "print()\n",
        "\n",
        "\n",
        "missing_values = df.isnull().sum()\n",
        "print(f'Пропущенные значения:\\n{missing_values}')"
      ]
    },
    {
      "cell_type": "markdown",
      "metadata": {
        "id": "RMerTMKXLA9f"
      },
      "source": [
        "## 2. Обработка данных\n",
        "\n",
        "Необходимо настроить датасет для дальнейшего использования. Сделайте следующее:\n",
        "\n",
        "*   Переименуйте столбец `educ` в `education`.\n",
        "*   Создайте новый столбец `party` на основе ответов каждого респондента в `PID`. `party` должен быть равен `Democrat`, если респондент выбрал или Strong Democrat, или Weak Democrat. `party` должен быть равен `Republican`, если респондент выбрал Strong или Weak Republican в `PID` и `Independent` во всех остальных случаях.\n",
        "*   Создайте новый столбец `age_group`, который объединяет респондентов по следующим категориям на основе их возраста `age`: 18-24, 25-34, 35-44, 45-54, 55-64, и 65+."
      ]
    },
    {
      "cell_type": "code",
      "execution_count": 8,
      "metadata": {
        "id": "QaxRXEVULDGn"
      },
      "outputs": [
        {
          "name": "stdout",
          "output_type": "stream",
          "text": [
            "   popul  TVnews  selfLR  ClinLR  DoleLR  PID   age  education  income  vote  \\\n",
            "0    0.0     7.0     7.0     1.0     6.0  6.0  36.0        3.0     1.0   1.0   \n",
            "1  190.0     1.0     3.0     3.0     5.0  1.0  20.0        4.0     1.0   0.0   \n",
            "2   31.0     7.0     2.0     2.0     6.0  1.0  24.0        6.0     1.0   0.0   \n",
            "3   83.0     4.0     3.0     4.0     5.0  1.0  28.0        6.0     1.0   0.0   \n",
            "4  640.0     7.0     5.0     6.0     4.0  0.0  68.0        6.0     1.0   0.0   \n",
            "\n",
            "   logpopul       party age_group  \n",
            "0 -2.302585  Republican     35-44  \n",
            "1  5.247550    Democrat     18-24  \n",
            "2  3.437208    Democrat     18-24  \n",
            "3  4.420045    Democrat     25-34  \n",
            "4  6.461624    Democrat       65+  \n"
          ]
        }
      ],
      "source": [
        "\n",
        "df.rename(columns={'educ': 'education'}, inplace=True)\n",
        "\n",
        "def party(pid):\n",
        "    if pid in [0, 1]:  # Strong Democrat or Weak Democrat\n",
        "        return 'Democrat'\n",
        "    elif pid in [5, 6]:  # Strong or Weak Republican\n",
        "        return 'Republican'\n",
        "    else:\n",
        "        return 'Independent'\n",
        "\n",
        "df['party'] = df['PID'].apply(party)\n",
        "\n",
        "df['age_group'] = None\n",
        "\n",
        "for i in range(len(df)):\n",
        "    age = df.loc[i, 'age']\n",
        "    \n",
        "    if 18 <= age <= 24:\n",
        "        df.loc[i, 'age_group'] = '18-24'\n",
        "    elif 25 <= age <= 34:\n",
        "        df.loc[i, 'age_group'] = '25-34'\n",
        "    elif 35 <= age <= 44:\n",
        "        df.loc[i, 'age_group'] = '35-44'\n",
        "    elif 45 <= age <= 54:\n",
        "        df.loc[i, 'age_group'] = '45-54'\n",
        "    elif 55 <= age <= 64:\n",
        "        df.loc[i, 'age_group'] = '55-64'\n",
        "    elif age >= 65:\n",
        "        df.loc[i, 'age_group'] = '65+'\n",
        "    else:\n",
        "        df.loc[i, 'age_group'] = 'incorrect input'\n",
        "\n",
        "print(df.head())\n",
        "\n"
      ]
    },
    {
      "cell_type": "markdown",
      "metadata": {
        "id": "FaisnScALWND"
      },
      "source": [
        "## 3. Фильтрация данных\n",
        "\n",
        "* Используя фильтрацию найдите всех респондентов, кто считал Билла Клинтона умеренным или консерватором (`ClinLR` равно 4 или выше). Сколько респондентов в этом подмножестве?\n",
        "* Среди всех респондентов, сколько имеют доход ниже $50,000 и хотя бы посещали колледж?"
      ]
    },
    {
      "cell_type": "code",
      "execution_count": 55,
      "metadata": {
        "id": "eX5t91r1BJ3k"
      },
      "outputs": [
        {
          "name": "stdout",
          "output_type": "stream",
          "text": [
            "   popul  TVnews  selfLR  ClinLR  DoleLR  PID   age  education  income  vote  \\\n",
            "0    0.0     7.0     7.0     1.0     6.0  6.0  36.0        3.0     1.0   1.0   \n",
            "1  190.0     1.0     3.0     3.0     5.0  1.0  20.0        4.0     1.0   0.0   \n",
            "2   31.0     7.0     2.0     2.0     6.0  1.0  24.0        6.0     1.0   0.0   \n",
            "3   83.0     4.0     3.0     4.0     5.0  1.0  28.0        6.0     1.0   0.0   \n",
            "4  640.0     7.0     5.0     6.0     4.0  0.0  68.0        6.0     1.0   0.0   \n",
            "\n",
            "   logpopul       party age_group  diff  diff_ClinLR  diff_DoleLR  \n",
            "0 -2.302585  Republican     35-44   6.0          6.0          1.0  \n",
            "1  5.247550    Democrat     18-24   2.0          0.0          2.0  \n",
            "2  3.437208    Democrat     18-24   4.0          0.0          4.0  \n",
            "3  4.420045    Democrat     25-34   2.0          1.0          2.0  \n",
            "4  6.461624    Democrat       65+   1.0          1.0          1.0  \n",
            "\n",
            "Респонденты с ClinLR >= 4, число: 282\n",
            "Число респондентов с доходом меньше 50.000$, которые посещали колледж (education >= 1): 944\n"
          ]
        }
      ],
      "source": [
        "print(df.head())\n",
        "print()\n",
        "\n",
        "df['ClinLR'] = pd.to_numeric(df['ClinLR'], errors='coerce')\n",
        "respondets_ClinLR_ge4 = df[df['ClinLR'] >= 4]\n",
        "\n",
        "num_of_respondets_ClinLR_ge4 = respondets_ClinLR_ge4.shape[0]\n",
        "print(f'Респонденты с ClinLR >= 4, число: {num_of_respondets_ClinLR_ge4}')\n",
        "\n",
        "df['income'] = pd.to_numeric(df['income'], errors='coerce')\n",
        "\n",
        "\n",
        "college = 1\n",
        "\n",
        "income_lt_50_college = df[(df['income'] < 50000) & (df['education'] >= college)]\n",
        "\n",
        "\n",
        "num_of_income_lt_50_college = income_lt_50_college.shape[0]\n",
        "print(f'Число респондентов с доходом меньше 50.000$, которые посещали колледж (education >= 1): {num_of_income_lt_50_college}')\n"
      ]
    },
    {
      "cell_type": "markdown",
      "metadata": {
        "id": "g5GzVjqdLe82"
      },
      "source": [
        "## 4. Вычисления на основе данных\n",
        "\n",
        "Для каждого из следующих сочетаний выберите группу, которая более вероятно проголосует за Билла Клинтона. Вы можете это вычислить используя долю каждой группы, которая намерена голосовать за Клинтона (`vote`). Какое сочетание имеет наименьшую разницу, а какое наибольшую?\n",
        "\n",
        "\n",
        "*   Демократы или республиканцы\n",
        "*   Люди младше 44 или люди старше 44 лет и старше\n",
        "*   Люди, которые смотрят новости по меньшей мере 6 дней в неделю, или, которые смотрят менее 3 дней в неделю\n",
        "*   Люди живущие там, где население меньше чем у среднего респондента, или там, где равно и больше\n"
      ]
    },
    {
      "cell_type": "code",
      "execution_count": 32,
      "metadata": {
        "id": "68hj5Vs6Lhz5"
      },
      "outputs": [
        {
          "name": "stdout",
          "output_type": "stream",
          "text": [
            "1. Демократы: 0.04,       республиканцы: 0.90,     разница: 0.86\n",
            "2. Младше 44: 0.41,       старше 44: 0.43,       разница: 0.02\n",
            "3. Смотрят новости 6 >= дней в неделю: 0.43,       Смотрят новости 3 < дней в неделю: 0.37,       разница: 0.07\n",
            "4. Население меньше, чем у среднего респондента: 0.44,       больше или равно: 0.28,       разница: 0.16\n",
            "\n",
            "Наименьшая разница: age\n",
            "Наибольшая разница: party\n"
          ]
        }
      ],
      "source": [
        "df['vote'] = pd.to_numeric(df['vote'], errors='coerce')\n",
        "\n",
        "party_vote = df.groupby('party')['vote'].mean()\n",
        "democrat_vote_number = party_vote.get('Democrat', 0)\n",
        "republican_vote_number = party_vote.get('Republican', 0)\n",
        "party_difference = abs(democrat_vote_number - republican_vote_number)\n",
        "\n",
        "print(f'1. Демократы: {democrat_vote_number:.2f}, \\\n",
        "      республиканцы: {republican_vote_number:.2f}, \\\n",
        "    разница: {party_difference:.2f}')\n",
        "\n",
        "\n",
        "age_group_vote = df.groupby(df['age'] < 44)['vote'].mean()\n",
        "young_vote_number = age_group_vote.get(True, 0)\n",
        "old_vote_number = age_group_vote.get(False, 0)\n",
        "age_difference = abs(young_vote_number - old_vote_number)\n",
        "\n",
        "print(f\"2. Младше 44: {young_vote_number:.2f}, \\\n",
        "      старше 44: {old_vote_number:.2f}, \\\n",
        "      разница: {age_difference:.2f}\")\n",
        "\n",
        "\n",
        "tv_news_group_vote = df.groupby((df['TVnews'] >= 6) | (df['TVnews'] < 3))['vote'].mean()\n",
        "frequent_news_watchers_vote_number = tv_news_group_vote.get(True, 0)\n",
        "infrequent_news_watchers_vote_number = tv_news_group_vote.get(False, 0)\n",
        "tv_news_difference = abs(frequent_news_watchers_vote_number - infrequent_news_watchers_vote_number)\n",
        "\n",
        "print(f\"3. Смотрят новости 6 >= дней в неделю: {frequent_news_watchers_vote_number:.2f}, \\\n",
        "      Смотрят новости 3 < дней в неделю: {infrequent_news_watchers_vote_number:.2f}, \\\n",
        "      разница: {tv_news_difference:.2f}\")\n",
        "\n",
        "\n",
        "mean_popul = df['popul'].mean()\n",
        "popul_group_vote = df.groupby(df['popul'] < mean_popul)['vote'].mean()\n",
        "less_populated_vote_number = popul_group_vote.get(True, 0)\n",
        "more_populated_vote_number = popul_group_vote.get(False, 0)\n",
        "popul_difference = abs(less_populated_vote_number - more_populated_vote_number)\n",
        "\n",
        "print(f\"4. Население меньше, чем у среднего респондента: {less_populated_vote_number:.2f}, \\\n",
        "      больше или равно: {more_populated_vote_number:.2f}, \\\n",
        "      разница: {popul_difference:.2f}\")\n",
        "\n",
        "\n",
        "differences = {\n",
        "    \"party\": party_difference,\n",
        "    \"age\": age_difference,\n",
        "    \"tv_news\": tv_news_difference,\n",
        "    \"popul\": popul_difference\n",
        "}\n",
        "\n",
        "min_difference = min(differences, key=differences.get)\n",
        "max_difference = max(differences, key=differences.get)\n",
        "\n",
        "print()\n",
        "print(f\"Наименьшая разница: {min_difference}\")\n",
        "print(f\"Наибольшая разница: {max_difference}\")\n"
      ]
    },
    {
      "cell_type": "markdown",
      "metadata": {
        "id": "Q68i6UUQLZrT"
      },
      "source": [
        "## 5. Группировка данных\n",
        "\n",
        "Используя метод `groupby()` объедините респондентов по `age_group`. Какая возрастная группа сама консервативная? Какая меньше всех смотрит новости?\n",
        "\n",
        "Далее, рассчитайте 5-процентильные группы в зависимости от дохода. Сгруппируйте набор данных по этим процентилям. Какая группа доходов является наиболее либеральной? Какая самой консервативной? Старейшей? Наиболее образованной?"
      ]
    },
    {
      "cell_type": "code",
      "execution_count": 53,
      "metadata": {
        "id": "eNrBrx6-LcBn"
      },
      "outputs": [
        {
          "name": "stdout",
          "output_type": "stream",
          "text": [
            "Самая консервативная возврастная группа: 18-24;     группа, смотрящая новости меньше всего18-24\n",
            "\n",
            "Группы. Наиболее либеральная: 66-83%,     самая консервативная: 0-16%,     старейшая группа: 16-33%,     наиболее образованная: 66-83%\n"
          ]
        },
        {
          "name": "stderr",
          "output_type": "stream",
          "text": [
            "C:\\Users\\user\\AppData\\Local\\Temp\\ipykernel_1636\\3769146446.py:26: FutureWarning: The default of observed=False is deprecated and will be changed to True in a future version of pandas. Pass observed=False to retain current behavior or observed=True to adopt the future default and silence this warning.\n",
            "  income_group_stats = df.groupby(income_groups).agg({\n"
          ]
        }
      ],
      "source": [
        "age_group = df.groupby('age_group').agg({\n",
        "    'ClinLR': 'mean',\n",
        "    'TVnews': 'mean'\n",
        "})\n",
        "\n",
        "conservative_group = age_group['ClinLR'].idxmax()\n",
        "least_news_watching_group = age_group['TVnews'].idxmin()\n",
        "\n",
        "print(f\"Самая консервативная возврастная группа: {conservative_group}; \\\n",
        "    группа, смотрящая новости меньше всего{least_news_watching_group}\")\n",
        "\n",
        "# 5-й процентиль — это значение, ниже которого находятся 5% данных.\n",
        "\n",
        "income_percentiles = df['income'].quantile([0, 0.05, 0.25, 0.5, 0.75, 0.95, 1]).unique()\n",
        "income_percentiles.sort()\n",
        "unique_income_percentiles = pd.unique(income_percentiles)\n",
        "income_labels = ['0-5%', '5-25%', '25-50%', '50-75%', '75-95%', '95-100%']\n",
        "\n",
        "if len(unique_income_percentiles) - 1 != len(income_labels):\n",
        "    # Если нет, обновляем метки, чтобы соответствовать количеству интервалов\n",
        "    income_labels = [f'{int(100*i/len(unique_income_percentiles))}-{int(100*(i+1)/len(unique_income_percentiles))}%' for i in range(len(unique_income_percentiles) - 1)]\n",
        "\n",
        "income_groups = pd.cut(df['income'], bins=unique_income_percentiles, labels=income_labels, duplicates='drop')\n",
        "\n",
        "\n",
        "income_group_stats = df.groupby(income_groups).agg({\n",
        "    'ClinLR': 'mean',\n",
        "    'age': 'mean',\n",
        "    'education': 'mean'\n",
        "})\n",
        "\n",
        "# Группы по доходу:\n",
        "most_liberal = income_group_stats['ClinLR'].idxmin()\n",
        "most_conservative = income_group_stats['ClinLR'].idxmax()\n",
        "oldest = income_group_stats['age'].idxmax()\n",
        "most_educated = income_group_stats['education'].idxmax()\n",
        "\n",
        "print()\n",
        "print(f\"Группы. Наиболее либеральная: {most_liberal}, \\\n",
        "    самая консервативная: {most_conservative}, \\\n",
        "    старейшая группа: {oldest}, \\\n",
        "    наиболее образованная: {most_educated}\")\n"
      ]
    },
    {
      "cell_type": "markdown",
      "metadata": {
        "id": "_ySpfyk-LSUS"
      },
      "source": [
        "## 6. Голосование вне логики\n",
        "\n",
        "Вам интересно узнать больше о респондентах, чьи политические взгляды сильно отличаются от кандидата, за которого они планируют голосовать. Используя `selfLR`, `vote`, `ClinLR`, и `DoleLR`, ответьте на следующие вопросы:\n",
        "\n",
        "*   Какая наибольшая известная разница между политическими взглядами респондента и его кандидата?\n",
        "*   Сколько респондентов показали такую разницу?\n",
        "*   Сделайте отдельный DataFrame `sway`, который включает только избирателей, которые демонстрируют разницу более $|3|$.\n",
        "*   В `sway`, больше респондентов голосующих за более либерального или более консервативного кандидата, чем они сами?\n",
        "*   В `sway`, какой кандидат наиболее популярен?"
      ]
    },
    {
      "cell_type": "code",
      "execution_count": 52,
      "metadata": {
        "id": "pIFQCKBcLX9z"
      },
      "outputs": [
        {
          "name": "stdout",
          "output_type": "stream",
          "text": [
            "Наибольшая разница между политическими взглядами респондента и его кандидатом: 6.0\n",
            "Количество респондентов с такой разницей: 21\n",
            "Больше респондентов голосуют за более liberal кандидата, чем они сами.\n",
            "Наиболее популярный кандидат в sway: Clinton\n"
          ]
        }
      ],
      "source": [
        "df['diff_ClinLR'] = abs(df['selfLR'] - df['ClinLR'])\n",
        "df['diff_DoleLR'] = abs(df['selfLR'] - df['DoleLR'])\n",
        "df['diff'] = df[['diff_ClinLR', 'diff_DoleLR']].max(axis=1)\n",
        "\n",
        "max_diff = df['diff'].max()\n",
        "num_respondents_max_diff = (df['diff'] == max_diff).sum()\n",
        "\n",
        "print(f\"Наибольшая разница между политическими взглядами респондента и его кандидатом: {max_diff}\")\n",
        "print(f\"Количество респондентов с такой разницей: {num_respondents_max_diff}\")\n",
        "\n",
        "# 3. Создать DataFrame sway, включающий только респондентов с разницей более 3 (по модулю)\n",
        "sway = df[df['diff'] > 3]\n",
        "\n",
        "# 4. В sway определить, больше ли респондентов голосуют за более либерального или более консервативного кандидата, чем они сами\n",
        "\n",
        "liberal_votes = sway[sway['ClinLR'] < sway['selfLR']]['vote'].count()\n",
        "conservative_votes = sway[sway['ClinLR'] > sway['selfLR']]['vote'].count()\n",
        "\n",
        "if liberal_votes > conservative_votes:\n",
        "    more_votes = 'liberal'\n",
        "else:\n",
        "    more_votes = 'conservative'\n",
        "\n",
        "# 5. Найти наиболее популярного кандидата в sway\n",
        "most_popular_candidate = sway['vote'].mode().iloc[0]\n",
        "\n",
        "# Вывод результатов\n",
        "\n",
        "print(f\"Больше респондентов голосуют за более {more_votes} кандидата, чем они сами.\")\n",
        "print(f\"Наиболее популярный кандидат в sway: {'Clinton' if most_popular_candidate == 1 else 'Dole'}\")"
      ]
    }
  ],
  "metadata": {
    "colab": {
      "provenance": []
    },
    "kernelspec": {
      "display_name": "Python 3",
      "name": "python3"
    },
    "language_info": {
      "codemirror_mode": {
        "name": "ipython",
        "version": 3
      },
      "file_extension": ".py",
      "mimetype": "text/x-python",
      "name": "python",
      "nbconvert_exporter": "python",
      "pygments_lexer": "ipython3",
      "version": "3.11.5"
    }
  },
  "nbformat": 4,
  "nbformat_minor": 0
}
